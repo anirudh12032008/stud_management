{
 "cells": [
  {
   "cell_type": "code",
   "execution_count": 4,
   "metadata": {},
   "outputs": [
    {
     "name": "stdout",
     "output_type": "stream",
     "text": [
      "0.Exit \t 1.Register \t 2.Login \t 3.Admin\n",
      "{'name': 'a', 'username': 'a', 'password': 'a', 'age': 'a', 'skills': ['a', 'b']}\n",
      "Name: a\n",
      "Username: a\n",
      "Age: a\n",
      "Skills: ['a', 'b']\n",
      "Name: a\n",
      "Username: a\n",
      "Age: a\n",
      "Skills: ['a', 'b']\n"
     ]
    },
    {
     "ename": "ValueError",
     "evalue": "invalid literal for int() with base 10: ''",
     "output_type": "error",
     "traceback": [
      "\u001b[1;31m---------------------------------------------------------------------------\u001b[0m",
      "\u001b[1;31mValueError\u001b[0m                                Traceback (most recent call last)",
      "Cell \u001b[1;32mIn[4], line 39\u001b[0m\n\u001b[0;32m     37\u001b[0m \u001b[38;5;28mprint\u001b[39m(\u001b[38;5;124m'\u001b[39m\u001b[38;5;124m0.Exit \u001b[39m\u001b[38;5;130;01m\\t\u001b[39;00m\u001b[38;5;124m 1.Register \u001b[39m\u001b[38;5;130;01m\\t\u001b[39;00m\u001b[38;5;124m 2.Login \u001b[39m\u001b[38;5;130;01m\\t\u001b[39;00m\u001b[38;5;124m 3.Admin\u001b[39m\u001b[38;5;124m'\u001b[39m)\n\u001b[0;32m     38\u001b[0m \u001b[38;5;28;01mwhile\u001b[39;00m(\u001b[38;5;28;01mTrue\u001b[39;00m):\n\u001b[1;32m---> 39\u001b[0m     n \u001b[38;5;241m=\u001b[39m \u001b[38;5;28;43mint\u001b[39;49m\u001b[43m(\u001b[49m\u001b[38;5;28;43minput\u001b[39;49m\u001b[43m(\u001b[49m\u001b[38;5;124;43m'\u001b[39;49m\u001b[38;5;124;43mNumber: \u001b[39;49m\u001b[38;5;124;43m'\u001b[39;49m\u001b[43m)\u001b[49m\u001b[43m)\u001b[49m\n\u001b[0;32m     40\u001b[0m     \u001b[38;5;28;01mif\u001b[39;00m n \u001b[38;5;241m==\u001b[39m \u001b[38;5;241m0\u001b[39m:\n\u001b[0;32m     41\u001b[0m         exit(\u001b[38;5;241m0\u001b[39m)\n",
      "\u001b[1;31mValueError\u001b[0m: invalid literal for int() with base 10: ''"
     ]
    },
    {
     "ename": "",
     "evalue": "",
     "output_type": "error",
     "traceback": [
      "The Kernel crashed while executing code in the the current cell or a previous cell. Please review the code in the cell(s) to identify a possible cause of the failure. Click <a href='https://aka.ms/vscodeJupyterKernelCrash'>here</a> for more info. View Jupyter <a href='command:jupyter.viewOutput'>log</a> for further details."
     ]
    }
   ],
   "source": [
    "import json\n",
    "\n",
    "\n",
    "class Students:\n",
    "    __usernames = []\n",
    "    with open('stud.json') as fs:\n",
    "        data = list(json.loads(fs.read()))\n",
    "        \n",
    "    def __init__(self):\n",
    "        self.name = input('Name: ')    \n",
    "        self.username = input('Username: ')    \n",
    "        self.password = input('Password: ')    \n",
    "        self.age = input('Age: ')    \n",
    "        self.skills = input('Skills(seperated by \\',\\'): ').split(',')\n",
    "        self.addU(self.username)\n",
    "        with open('stud.json', 'w') as fs:\n",
    "            self.data.append(self)\n",
    "            print(self.__dict__)\n",
    "            x = {}\n",
    "            fs.write(json.dumps(x))\n",
    "        \n",
    "    @classmethod\n",
    "    def addU(cls, name):\n",
    "        cls.__usernames.append(name)\n",
    "        \n",
    "    def info(self):\n",
    "        print(f'Name: {self.name}')\n",
    "        print(f'Username: {self.username}')\n",
    "        print(f'Age: {self.age}')\n",
    "        print(f'Skills: {self.skills}')\n",
    "        \n",
    "    @classmethod\n",
    "    def users(cls):\n",
    "        print('op')\n",
    "        print(cls.__usernames)\n",
    "        \n",
    "print('0.Exit \\t 1.Register \\t 2.Login \\t 3.Admin')\n",
    "while(True):\n",
    "    n = int(input('Number: '))\n",
    "    if n == 0:\n",
    "        exit(0)\n",
    "    elif n == 1:\n",
    "        student = Students()\n",
    "    elif n == 2:\n",
    "        student.info()\n",
    "    elif n == 3:\n",
    "        Students.users()\n",
    "    "
   ]
  },
  {
   "cell_type": "code",
   "execution_count": 6,
   "metadata": {},
   "outputs": [
    {
     "name": "stdout",
     "output_type": "stream",
     "text": [
      "\n",
      "      1. Register\n",
      "      2. Login\n",
      "      3. Access\n",
      "      4. Update\n",
      "      5. Delete\n",
      "      0. Exit\n",
      "      \n"
     ]
    },
    {
     "ename": "AttributeError",
     "evalue": "type object 'Students' has no attribute 'access'",
     "output_type": "error",
     "traceback": [
      "\u001b[1;31m---------------------------------------------------------------------------\u001b[0m",
      "\u001b[1;31mAttributeError\u001b[0m                            Traceback (most recent call last)",
      "Cell \u001b[1;32mIn[6], line 18\u001b[0m\n\u001b[0;32m     16\u001b[0m     Students\u001b[38;5;241m.\u001b[39mreadSingle()\n\u001b[0;32m     17\u001b[0m \u001b[38;5;28;01mif\u001b[39;00m n \u001b[38;5;241m==\u001b[39m \u001b[38;5;241m3\u001b[39m:\n\u001b[1;32m---> 18\u001b[0m     \u001b[43mStudents\u001b[49m\u001b[38;5;241;43m.\u001b[39;49m\u001b[43maccess\u001b[49m()\n\u001b[0;32m     19\u001b[0m \u001b[38;5;28;01mif\u001b[39;00m n \u001b[38;5;241m==\u001b[39m \u001b[38;5;241m4\u001b[39m:\n\u001b[0;32m     20\u001b[0m     Students\u001b[38;5;241m.\u001b[39mupdateData\n",
      "\u001b[1;31mAttributeError\u001b[0m: type object 'Students' has no attribute 'access'"
     ]
    }
   ],
   "source": []
  }
 ],
 "metadata": {
  "kernelspec": {
   "display_name": "Python 3.11.4 64-bit",
   "language": "python",
   "name": "python3"
  },
  "language_info": {
   "codemirror_mode": {
    "name": "ipython",
    "version": 3
   },
   "file_extension": ".py",
   "mimetype": "text/x-python",
   "name": "python",
   "nbconvert_exporter": "python",
   "pygments_lexer": "ipython3",
   "version": "3.11.4"
  },
  "orig_nbformat": 4,
  "vscode": {
   "interpreter": {
    "hash": "c610c976cc9466b6ea9b15ba365ba9d7f1f0ad2bed73a73022eff746c04e171a"
   }
  }
 },
 "nbformat": 4,
 "nbformat_minor": 2
}
